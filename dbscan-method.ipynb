{
 "cells": [
  {
   "cell_type": "code",
   "execution_count": null,
   "id": "8eb7e6ae-6a80-43c4-a1de-b00fdf25f5a2",
   "metadata": {
    "scrolled": true
   },
   "outputs": [],
   "source": [
    "from PIL import Image\n",
    "import numpy as np\n",
    "import matplotlib.pyplot as plt\n",
    "from sklearn.cluster import DBSCAN\n",
    "\n",
    "# Load the image without rescaling\n",
    "def load_image(image_path):\n",
    "    Image.MAX_IMAGE_PIXELS = None\n",
    "    image = Image.open(image_path)\n",
    "    return np.array(image)\n",
    "\n",
    "# Display the image\n",
    "def display_image(image, title='Image'):\n",
    "    plt.figure(figsize=(10, 10))\n",
    "    plt.imshow(np.array(image))\n",
    "    plt.title(title)\n",
    "    plt.axis('off')\n",
    "    plt.show()"
   ]
  },
  {
   "cell_type": "code",
   "execution_count": null,
   "id": "c6269c8d-0635-4500-8944-ef3d338ad0fd",
   "metadata": {},
   "outputs": [],
   "source": [
    "# Path to the image\n",
    "image_path = \"../satellite-images/Namibia.jpg\"\n",
    "\n",
    "# Load the image\n",
    "original_image = load_image(image_path)\n",
    "\n",
    "# display_image(original_image)"
   ]
  },
  {
   "cell_type": "code",
   "execution_count": null,
   "id": "b4b95768-8e3e-4404-a259-380fdb17fa11",
   "metadata": {},
   "outputs": [],
   "source": [
    "# Split image into smaller squares\n",
    "def split_image(image, square_size):\n",
    "    squares = []\n",
    "    height, width = image.shape[:2]\n",
    "    for i in range(0, height, square_size):\n",
    "        for j in range(0, width, square_size):\n",
    "            square = image[i:i+square_size, j:j+square_size]\n",
    "            squares.append(square)\n",
    "    return squares, height // square_size + 1, width // square_size + 1\n",
    "\n",
    "# Display the squares in a grid layout\n",
    "def display_image_grid(squares, rows, cols, square_size, title='Image Grid'):\n",
    "    fig, axes = plt.subplots(rows, cols, figsize=(15, 15))\n",
    "    for idx, square in enumerate(squares):\n",
    "        row = idx // cols\n",
    "        col = idx % cols\n",
    "        ax = axes[row, col]\n",
    "        ax.imshow(square)\n",
    "        ax.axis('off')\n",
    "    plt.suptitle(title)\n",
    "    plt.show()"
   ]
  },
  {
   "cell_type": "code",
   "execution_count": null,
   "id": "e940de4c-6c1c-40bf-bf4c-6f0dc8460dd8",
   "metadata": {},
   "outputs": [],
   "source": [
    "# Apply DBSCAN clustering\n",
    "def apply_dbscan_clustering(image, eps=0.1, min_samples=5):\n",
    "    # Flatten the image to a 2D array of pixels\n",
    "    pixels = image.reshape(-1, image.shape[-1])\n",
    "    \n",
    "    # Apply DBSCAN clustering with adjusted parameters\n",
    "    dbscan = DBSCAN(eps=eps, min_samples=min_samples)\n",
    "    labels = dbscan.fit_predict(pixels)\n",
    "    \n",
    "    # Reshape the labels to the original image shape\n",
    "    clustered_image = labels.reshape(image.shape[0], image.shape[1])\n",
    "    \n",
    "    return clustered_image"
   ]
  },
  {
   "cell_type": "code",
   "execution_count": null,
   "id": "bb99929d-5988-449e-8270-8cff7ecc5055",
   "metadata": {
    "scrolled": true
   },
   "outputs": [],
   "source": [
    "# Split the image into smaller squares\n",
    "square_size = 100  # Adjust the size of the squares as needed\n",
    "squares, rows, cols = split_image(original_image, square_size)\n",
    "\n",
    "# display_image_grid(squares, rows, cols, square_size, title='Image Split into Squares')"
   ]
  },
  {
   "cell_type": "code",
   "execution_count": null,
   "id": "2895daa9-4ec9-47c0-af7b-6be99a0b3cde",
   "metadata": {},
   "outputs": [],
   "source": [
    "# Apply DBSCAN clustering to each square\n",
    "clustered_squares = []\n",
    "for square in squares:\n",
    "    clustered_square = apply_dbscan_clustering(square, eps=0.1, min_samples=5)\n",
    "    clustered_squares.append(clustered_square)\n",
    "\n",
    "# Display the clustered squares in a grid layout\n",
    "display_image_grid(clustered_squares, rows, cols, square_size, title='Clustered Image Grid with DBSCAN')"
   ]
  },
  {
   "cell_type": "code",
   "execution_count": null,
   "id": "5354c48f-5b48-4cae-a784-bada7d9e5d2c",
   "metadata": {},
   "outputs": [],
   "source": [
    "from PIL import Image\n",
    "import numpy as np\n",
    "import matplotlib.pyplot as plt\n",
    "from sklearn.cluster import DBSCAN\n",
    "\n",
    "# Load the image without rescaling\n",
    "def load_image(image_path):\n",
    "    Image.MAX_IMAGE_PIXELS = None\n",
    "    image = Image.open(image_path)\n",
    "    return np.array(image)\n",
    "\n",
    "# Split image into smaller squares\n",
    "def split_image(image, square_size):\n",
    "    squares = []\n",
    "    height, width = image.shape[:2]\n",
    "    for i in range(0, height, square_size):\n",
    "        for j in range(0, width, square_size):\n",
    "            square = image[i:i+square_size, j:j+square_size]\n",
    "            squares.append(square)\n",
    "    return squares, (height + square_size - 1) // square_size, (width + square_size - 1) // square_size\n",
    "\n",
    "# Apply DBSCAN clustering\n",
    "def apply_dbscan_clustering(image, eps=0.1, min_samples=5):\n",
    "    # Flatten the image to a 2D array of pixels\n",
    "    pixels = image.reshape(-1, image.shape[-1])\n",
    "    \n",
    "    # Apply DBSCAN clustering with adjusted parameters\n",
    "    dbscan = DBSCAN(eps=eps, min_samples=min_samples)\n",
    "    labels = dbscan.fit_predict(pixels)\n",
    "    \n",
    "    # Reshape the labels to the original image shape\n",
    "    clustered_image = labels.reshape(image.shape[0], image.shape[1])\n",
    "    \n",
    "    return clustered_image\n",
    "\n",
    "# Display the squares in a grid layout\n",
    "def display_image_grid(squares, rows, cols, square_size, title='Image Grid'):\n",
    "    fig, axes = plt.subplots(rows, cols, figsize=(15, 15))\n",
    "    for idx, square in enumerate(squares):\n",
    "        row = idx // cols\n",
    "        col = idx % cols\n",
    "        ax = axes[row, col]\n",
    "        ax.imshow(square, cmap='gray')\n",
    "        ax.axis('off')\n",
    "    plt.suptitle(title)\n",
    "    plt.show()\n",
    "\n",
    "# Path to the image\n",
    "image_path = \"../satellite-images/Namibia.jpg\"\n",
    "\n",
    "# Load the image\n",
    "original_image = load_image(image_path)\n",
    "\n",
    "# Split the image into smaller squares\n",
    "square_size = 256  # Adjust the size of the squares as needed\n",
    "squares, rows, cols = split_image(original_image, square_size)\n",
    "\n",
    "# Apply DBSCAN clustering to each square\n",
    "clustered_squares = []\n",
    "for square in squares:\n",
    "    clustered_square = apply_dbscan_clustering(square, eps=0.1, min_samples=5)\n",
    "    clustered_squares.append(clustered_square)\n",
    "\n",
    "# Display the clustered squares in a grid layout\n",
    "display_image_grid(clustered_squares, rows, cols, square_size, title='Clustered Image Grid with DBSCAN')"
   ]
  },
  {
   "cell_type": "code",
   "execution_count": null,
   "id": "0d2dbbd4-931b-495f-8360-fffd74101d6c",
   "metadata": {},
   "outputs": [],
   "source": []
  }
 ],
 "metadata": {
  "kernelspec": {
   "display_name": "Python 3 (ipykernel)",
   "language": "python",
   "name": "python3"
  },
  "language_info": {
   "codemirror_mode": {
    "name": "ipython",
    "version": 3
   },
   "file_extension": ".py",
   "mimetype": "text/x-python",
   "name": "python",
   "nbconvert_exporter": "python",
   "pygments_lexer": "ipython3",
   "version": "3.11.8"
  }
 },
 "nbformat": 4,
 "nbformat_minor": 5
}
